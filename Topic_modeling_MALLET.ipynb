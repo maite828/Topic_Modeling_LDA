{
 "cells": [
  {
   "cell_type": "code",
   "execution_count": 272,
   "metadata": {
    "collapsed": false
   },
   "outputs": [],
   "source": [
    "#Técnica de factorización de la matriz no negativa (NMF) \n",
    "import os\n",
    "import numpy as np\n",
    "import langdetect\n",
    "from stop_words import get_stop_words\n",
    "CORPUS_PATH = os.path.join('data', 'output/es')\n",
    "filenames = sorted([os.path.join(CORPUS_PATH, fn) for fn in os.listdir(CORPUS_PATH)])"
   ]
  },
  {
   "cell_type": "code",
   "execution_count": 273,
   "metadata": {
    "collapsed": false
   },
   "outputs": [
    {
     "data": {
      "text/plain": [
       "['data\\\\output/es\\\\365imagenesbonitas.com.txt',\n",
       " 'data\\\\output/es\\\\4fotos1palabrarespuestas.net.txt',\n",
       " 'data\\\\output/es\\\\abc.gov.ar.txt',\n",
       " 'data\\\\output/es\\\\adnriver.com.txt',\n",
       " 'data\\\\output/es\\\\ahba.com.ar.txt']"
      ]
     },
     "execution_count": 273,
     "metadata": {},
     "output_type": "execute_result"
    }
   ],
   "source": [
    "# files are located in data/datos\n",
    "len(filenames)\n",
    "filenames[:5]"
   ]
  },
  {
   "cell_type": "code",
   "execution_count": 274,
   "metadata": {
    "collapsed": false
   },
   "outputs": [
    {
     "data": {
      "text/plain": [
       "(165L, 9L)"
      ]
     },
     "execution_count": 274,
     "metadata": {},
     "output_type": "execute_result"
    }
   ],
   "source": [
    "#Por analogía con LDA, utilizaremos NMF para obtener una matriz de documentos relacionados con el\n",
    "#tema (temas aquí también se conocen como \"componentes\") y una lista de los mejores palabras para cada tema.\n",
    "#clara analogía con los mismos nombres de variables: doctopicytopic_words\n",
    "import sklearn.feature_extraction.text as text\n",
    "\n",
    "#lang = langdetect.detect(CORPUS_PATH)\n",
    "lang_stop = get_stop_words('es')\n",
    "vectorizer = text.CountVectorizer(input='filename', stop_words=lang_stop, min_df=20)\n",
    "dtm = vectorizer.fit_transform(filenames).toarray()\n",
    "vocab = np.array(vectorizer.get_feature_names())\n",
    "\n",
    "dtm.shape"
   ]
  },
  {
   "cell_type": "code",
   "execution_count": 275,
   "metadata": {
    "collapsed": true
   },
   "outputs": [],
   "source": [
    "from sklearn import decomposition\n",
    "num_topics = 20\n",
    "num_top_words = 20\n",
    "clf = decomposition.NMF(n_components=num_topics, random_state=1)\n",
    "\n",
    "# this next step may take some time"
   ]
  },
  {
   "cell_type": "code",
   "execution_count": 276,
   "metadata": {
    "collapsed": true
   },
   "outputs": [],
   "source": [
    "doctopic = clf.fit_transform(dtm)"
   ]
  },
  {
   "cell_type": "code",
   "execution_count": 277,
   "metadata": {
    "collapsed": false
   },
   "outputs": [],
   "source": [
    "# Palabras asociadas a temas \n",
    "topic_words = []\n",
    "\n",
    "for topic in clf.components_:\n",
    "    word_idx = np.argsort(topic)[::-1][0:num_top_words]\n",
    "    topic_words.append([vocab[i] for i in word_idx])"
   ]
  },
  {
   "cell_type": "code",
   "execution_count": 279,
   "metadata": {
    "collapsed": false
   },
   "outputs": [],
   "source": [
    "doctopic = (doctopic / (np.sum(doctopic, axis=1, keepdims=True)))"
   ]
  },
  {
   "cell_type": "code",
   "execution_count": 280,
   "metadata": {
    "collapsed": false
   },
   "outputs": [],
   "source": [
    "#promedio de las acciones de temas asociados con el mismo documento\n",
    "doc_names = []\n",
    "\n",
    "for fn in filenames:\n",
    "    basename = os.path.basename(fn)\n",
    "    name, ext = os.path.splitext(basename)\n",
    "    name = name.rstrip('0123456789')\n",
    "    doc_names.append(name) \n",
    "\n",
    "# turn this into an array so we can use NumPy functions\n",
    "doc_names = np.asarray(doc_names)\n",
    "\n",
    "doctopic_orig = doctopic.copy()\n",
    "\n",
    "# use method described in preprocessing section\n",
    "num_groups = len(set(doc_names))\n",
    "\n",
    "doctopic_grouped = np.zeros((num_groups, num_topics))\n",
    "\n",
    "for i, name in enumerate(sorted(set(doc_names))):\n",
    "     doctopic_grouped[i, :] = np.mean(doctopic[doc_names == name, :], axis=0) \n",
    "\n",
    "doctopic = doctopic_grouped"
   ]
  },
  {
   "cell_type": "code",
   "execution_count": 281,
   "metadata": {
    "collapsed": false
   },
   "outputs": [
    {
     "name": "stdout",
     "output_type": "stream",
     "text": [
      "Top NMF topics in...\n",
      "365imagenesbonitas.com: 19 18 1\n",
      "4fotos1palabrarespuestas.net: 19 18 1\n",
      "abc.gov.ar: 19 18 1\n",
      "adnriver.com: 9 0 7\n",
      "ahba.com.ar: 19 18 1\n",
      "aldeaviral.com: 7 10 19\n",
      "alesanderlopez.es: 19 18 1\n",
      "amodil.com: 19 18 1\n",
      "andorrafreemarket.com: 19 18 7\n",
      "anthenaarcturus.com: 19 18 1\n",
      "arandu.com.ar: 10 17 3\n",
      "arenamarybosque.com.ar: 19 18 1\n",
      "argentas.com.ar: 16 10 19\n",
      "arredo.com.ar: 17 10 3\n",
      "bancoprovincia.com.ar: 19 18 1\n",
      "berissociudad.com.ar: 0 5 3\n",
      "besha.com.ar: 19 18 1\n",
      "bigbangnews.com: 0 9 3\n",
      "brandlive.net: 18 7 13\n",
      "buenosaires.gob.ar: 10 17 3\n",
      "buscapalabras.com.ar: 19 18 1\n",
      "carestino.com: 19 18 1\n",
      "carlosdodorico.com: 19 18 1\n",
      "cba24n.com.ar: 0 5 3\n",
      "ceacsrl.com.ar: 19 18 1\n",
      "cfkargentina.com: 19 17 10\n",
      "chinchonfree.com: 18 13 14\n",
      "chochox.com: 4 8 1\n",
      "cholilaonline.com: 0 13 18\n",
      "claroapps.com: 19 18 1\n",
      "clinica-web.com.ar: 10 17 3\n",
      "comocultivo.com: 19 7 10\n",
      "comoorganizarlacasa.com: 19 18 1\n",
      "consejosdederecho.com.ar: 5 3 17\n",
      "coopelecpehuajo.com.ar: 19 18 1\n",
      "crecerfeliz.es: 19 18 1\n",
      "cristianarce.com.ar: 19 18 1\n",
      "cutralcoalinstante.com: 19 18 1\n",
      "deruedas.com.ar: 19 18 1\n",
      "diariofemenino.com: 5 1 19\n",
      "diariosargentinos.net: 0 5 3\n",
      "eavescueladevinos.com: 10 17 3\n",
      "elchubut.com.ar: 1 5 12\n",
      "eldestapeweb.com: 0 11 12\n",
      "elpatagonico.com: 5 1 19\n",
      "elrealista.com: 19 18 1\n",
      "elsol.com.ar: 0 1 19\n",
      "eltallerdeloantiguo.com: 19 18 1\n",
      "eroadvertising.com: 19 18 1\n",
      "escortsxp.com: 10 17 3\n",
      "eshentai.net: 19 18 1\n",
      "esposasymaridos.xxx: 8 6 16\n",
      "estaciondelvalle963.com.ar: 1 0 19\n",
      "esteticas.com.ar: 10 19 7\n",
      "farmacity.com: 18 13 14\n",
      "fid.org.ar: 19 18 1\n",
      "fotossexogratis.net: 2 15 16\n",
      "frasesdecumpleanos3.com: 19 18 1\n",
      "freemeteo.com.ar: 19 18 1\n",
      "funsan.org: 19 18 1\n",
      "futbol-argento.com.ar: 16 3 17\n",
      "futbolparatodos.com.ar: 9 18 1\n",
      "gordasargentina.com: 10 17 3\n",
      "gruporedargentina.com.ar: 10 17 3\n",
      "horoscoposdeldiario.com: 5 1 19\n",
      "hyperbole.es: 19 18 1\n",
      "ignisnatura.net: 19 18 1\n",
      "imagenescool.com: 19 18 1\n",
      "infoleg.gob.ar: 10 17 3\n",
      "inglessencillo.com: 19 13 18\n",
      "inmobiliariaberasueta.com: 19 18 1\n",
      "itabikinis.com.ar: 18 13 14\n",
      "japemusic.com: 8 15 16\n",
      "jclsa.com: 19 18 1\n",
      "jus.gov.ar: 10 17 3\n",
      "labioguia.com: 19 13 18\n",
      "labrujula24.com: 19 18 1\n",
      "lacapitalmdp.com: 1 5 12\n",
      "lacocinadelsur.com: 9 7 6\n",
      "lanueva.com: 0 5 3\n",
      "lapaginamillonaria.com: 9 18 1\n",
      "letgo.com.ar: 8 10 3\n",
      "lgblog.cl: 19 18 1\n",
      "lindotest.com: 19 7 10\n",
      "linktomedia.net: 19 18 1\n",
      "locoxelrojo.com.ar: 9 19 7\n",
      "ludigames.com: 2 8 7\n",
      "manoalaobra.co: 19 18 1\n",
      "mas40.com: 8 19 18\n",
      "maxpedia.org: 19 18 1\n",
      "mercadoclics.com: 18 13 14\n",
      "mexicoxxx.com.mx: 16 9 6\n",
      "minube.com.ar: 19 18 1\n",
      "minutofueguino.com.ar: 0 11 12\n",
      "minutoneuquen.com: 0 5 3\n",
      "miplanchevrolet.com.ar: 19 18 1\n",
      "miradetodo.net: 8 13 18\n",
      "modatex.com.ar: 17 10 3\n",
      "mrvideoscaseros.xxx: 2 6 16\n",
      "mujerescojiendo.org: 2 6 16\n",
      "muycerdas.xxx: 8 6 5\n",
      "muysencillo.com: 19 18 1\n",
      "naturalezabellezaysalud.com: 19 18 1\n",
      "noticiastu.com: 0 12 11\n",
      "noviecitas.com: 10 17 3\n",
      "paisdelosjuegos.com.ar: 8 19 13\n",
      "paparazzi.com.ar: 10 17 3\n",
      "pendejasturras.com: 2 10 15\n",
      "perro-perdido.org: 19 18 1\n",
      "petardas.mobi: 16 8 6\n",
      "petardasmovil.org: 16 9 6\n",
      "pintzap.com: 19 18 1\n",
      "poringa.com: 19 18 1\n",
      "porquenosemeocurrio.com: 7 10 19\n",
      "postubo.com: 19 18 1\n",
      "preciosderemedios.com.ar: 10 17 3\n",
      "primicias.mx: 0 3 12\n",
      "prosegur.com.ar: 9 18 1\n",
      "publicidad.tv: 18 13 14\n",
      "quimi-lab.com.ar: 19 18 1\n",
      "radiomagicadigital.com: 19 18 1\n",
      "reebok.com.ar: 10 7 3\n",
      "relatoseroticos.co: 4 8 1\n",
      "remedioscaserosfaciles.net: 19 18 1\n",
      "reproduccionasistida.org: 7 10 19\n",
      "rionegro.gov.ar: 10 17 3\n",
      "sabevivir.com: 0 19 11\n",
      "sabiduriadelaluz.org: 19 18 1\n",
      "selfiegirls.net: 10 17 3\n",
      "selfiescorts.com: 19 18 1\n",
      "semanarioactualidad.com.ar: 1 0 5\n",
      "sexogaygratis.biz: 2 6 5\n",
      "sexysabor.com: 10 17 3\n",
      "simp3.com: 2 8 18\n",
      "skokka.com: 8 19 18\n",
      "sodimac.com.ar: 19 18 1\n",
      "soycuervo.com: 18 13 14\n",
      "suamarillas.com: 10 7 3\n",
      "suplefacts.com: 19 18 1\n",
      "tdfclasificados.com.ar: 8 19 18\n",
      "tiempodesanjuan.com: 0 12 11\n",
      "tiemposur.com.ar: 1 0 19\n",
      "tiendeo.com.ar: 19 18 1\n",
      "trolas.com.ar: 2 10 6\n",
      "trucosmovil.com: 8 19 18\n",
      "tupeinado.com: 19 18 1\n",
      "turras.com.ar: 10 16 6\n",
      "tusejemplos.com: 19 18 1\n",
      "tvn-2.com: 9 0 11\n",
      "uca.edu.ar: 10 17 3\n",
      "unr.edu.ar: 10 17 3\n",
      "valor-dolar.cl: 19 18 1\n",
      "vecinitas.net: 2 6 16\n",
      "verseriesynovelas.tv: 8 13 18\n",
      "viaresto.com: 10 19 7\n",
      "viejasfollando.xxx: 16 9 6\n",
      "villamariavivo.com: 1 5 0\n",
      "vix.com: 19 18 1\n",
      "wd1.me: 9 18 1\n",
      "xn--decorandouas-jhb.net: 9 18 1\n",
      "xn--paalerakokis-bhb.com.ar: 19 18 1\n",
      "xn--sueo-iqa.net: 19 18 1\n",
      "xpaja.net: 16 6 18\n",
      "yuhuads.com: 19 18 1\n",
      "zootubex.net: 8 6 16\n"
     ]
    }
   ],
   "source": [
    "#Inspecting the NMF fit\n",
    "docs = sorted(set(novel_names))\n",
    "\n",
    "print(\"Top NMF topics in...\")\n",
    "\n",
    "for i in range(len(doctopic)):\n",
    "    top_topics = np.argsort(doctopic[i,:])[::-1][0:3]\n",
    "    top_topics_str = ' '.join(str(t) for t in top_topics)\n",
    "    print(\"{}: {}\".format(docs[i], top_topics_str))"
   ]
  },
  {
   "cell_type": "code",
   "execution_count": 282,
   "metadata": {
    "collapsed": false
   },
   "outputs": [
    {
     "name": "stdout",
     "output_type": "stream",
     "text": [
      "Topic 0: noticia argentina diario video porno onlin mejor grati com\n",
      "Topic 1: diario com video porno onlin noticia mejor grati argentina\n",
      "Topic 2: mejor grati porno video onlin noticia diario com argentina\n",
      "Topic 3: argentina porno video onlin noticia mejor grati diario com\n",
      "Topic 4: porno diario grati video onlin noticia mejor com argentina\n",
      "Topic 5: diario porno grati video onlin noticia mejor com argentina\n",
      "Topic 6: video porno grati onlin noticia mejor diario com argentina\n",
      "Topic 7: mejor video porno onlin noticia grati diario com argentina\n",
      "Topic 8: grati video porno onlin noticia mejor diario com argentina\n",
      "Topic 9: video porno onlin noticia mejor grati diario com argentina\n",
      "Topic 10: argentina porno mejor video onlin noticia grati diario com\n",
      "Topic 11: noticia video porno onlin mejor grati diario com argentina\n",
      "Topic 12: noticia video porno onlin mejor grati diario com argentina\n",
      "Topic 13: onlin com mejor video porno noticia grati diario argentina\n",
      "Topic 14: onlin argentina video porno noticia mejor grati diario com\n",
      "Topic 15: porno grati video onlin noticia mejor diario com argentina\n",
      "Topic 16: porno video onlin noticia mejor grati diario com argentina\n",
      "Topic 17: argentina video porno onlin noticia mejor grati diario com\n",
      "Topic 18: onlin mejor video porno noticia grati diario com argentina\n",
      "Topic 19: com video porno onlin noticia mejor grati diario argentina\n"
     ]
    }
   ],
   "source": [
    "for t in range(len(topic_words)):\n",
    "    print(\"Topic {}: {}\".format(t, ' '.join(topic_words[t][:15])))"
   ]
  },
  {
   "cell_type": "code",
   "execution_count": 283,
   "metadata": {
    "collapsed": true
   },
   "outputs": [],
   "source": [
    "noticia_indices, video_indices = [], []"
   ]
  },
  {
   "cell_type": "code",
   "execution_count": 284,
   "metadata": {
    "collapsed": false
   },
   "outputs": [],
   "source": [
    "for index, fn in enumerate(sorted(set(doc_names))):\n",
    "    if \"porno\" in fn:\n",
    "        noticia_indices.append(index)\n",
    "    elif \"noticia\" in fn:\n",
    "        video_indices.append(index)"
   ]
  },
  {
   "cell_type": "code",
   "execution_count": 286,
   "metadata": {
    "collapsed": false
   },
   "outputs": [
    {
     "data": {
      "text/plain": [
       "array([19, 18,  1,  2,  3,  4,  5,  6,  7,  8], dtype=int64)"
      ]
     },
     "execution_count": 286,
     "metadata": {},
     "output_type": "execute_result"
    }
   ],
   "source": [
    "noticia_avg = np.mean(doctopic[noticia_indices, :], axis=0)\n",
    "video_avg = np.mean(doctopic[video_indices, :], axis=0)\n",
    "keyness = np.abs(noticia_avg - video_avg)\n",
    "ranking = np.argsort(keyness)[::-1]  \n",
    "\n",
    "# distinctive topics:\n",
    "ranking[:10]"
   ]
  },
  {
   "cell_type": "code",
   "execution_count": 287,
   "metadata": {
    "collapsed": false
   },
   "outputs": [
    {
     "data": {
      "text/plain": [
       "<matplotlib.text.Text at 0x29732358>"
      ]
     },
     "execution_count": 287,
     "metadata": {},
     "output_type": "execute_result"
    },
    {
     "data": {
      "image/png": "[encoded data removed]",
      "text/plain": [
       "<matplotlib.figure.Figure at 0x259c5be0>"
      ]
     },
     "metadata": {},
     "output_type": "display_data"
    }
   ],
   "source": [
    "%matplotlib inline\n",
    "import matplotlib.pyplot as plt\n",
    "from sklearn.metrics.pairwise import cosine_similarity\n",
    "from sklearn.manifold import MDS\n",
    "\n",
    "dist = 1 - cosine_similarity(dtm)\n",
    "mds = MDS(n_components=2, dissimilarity=\"precomputed\")\n",
    "pos = mds.fit_transform(dist)  # shape (n_components, n_samples)\n",
    "\n",
    "xs, ys = pos[:, 0], pos[:, 1]\n",
    "names1 = [os.path.basename(fn).replace(('.txt'), '') for fn in filenames]\n",
    "names2 = [os.path.basename(fn).replace(('.com'), '') for fn in names1]\n",
    "names3 = [os.path.basename(fn).replace(('.net'), '') for fn in names2]\n",
    "names4 = [os.path.basename(fn).replace(('.org'), '') for fn in names3]\n",
    "names5 = [os.path.basename(fn).replace(('.ar'), '') for fn in names4]\n",
    "names = [os.path.basename(fn).replace(('.ar'), '') for fn in names5]\n",
    "\n",
    "for x, y, name in zip(xs, ys, names):\n",
    "    color = 'orange' if \"video\" in name else 'skyblue'\n",
    "    plt.scatter(x, y, c=color)\n",
    "    plt.text(x, y, name)\n",
    "\n",
    "plt.title(\"Distinctive Topics\")"
   ]
  },
  {
   "cell_type": "code",
   "execution_count": 288,
   "metadata": {
    "collapsed": true
   },
   "outputs": [],
   "source": [
    "#MALLET"
   ]
  },
  {
   "cell_type": "code",
   "execution_count": 289,
   "metadata": {
    "collapsed": true
   },
   "outputs": [],
   "source": [
    "#Topic modeling with MALLET\n",
    "import os\n",
    "CORPUS_PATH = os.path.join('data','output/es')\n",
    "filenames = sorted([os.path.join(CORPUS_PATH, fn) for fn in os.listdir(CORPUS_PATH)])"
   ]
  },
  {
   "cell_type": "code",
   "execution_count": 290,
   "metadata": {
    "collapsed": false
   },
   "outputs": [
    {
     "data": {
      "text/plain": [
       "['data\\\\output/es\\\\365imagenesbonitas.com.txt',\n",
       " 'data\\\\output/es\\\\4fotos1palabrarespuestas.net.txt',\n",
       " 'data\\\\output/es\\\\abc.gov.ar.txt',\n",
       " 'data\\\\output/es\\\\adnriver.com.txt',\n",
       " 'data\\\\output/es\\\\ahba.com.ar.txt']"
      ]
     },
     "execution_count": 290,
     "metadata": {},
     "output_type": "execute_result"
    }
   ],
   "source": [
    "# Archivos están ubicados en data\n",
    "len(filenames)  \n",
    "filenames[:5]"
   ]
  },
  {
   "cell_type": "code",
   "execution_count": 309,
   "metadata": {
    "collapsed": false
   },
   "outputs": [
    {
     "name": "stdout",
     "output_type": "stream",
     "text": [
      "[<iterator object at 0x0000000025041FD0>, <iterator object at 0x0000000025041FD0>]\n",
      "[<iterator object at 0x0000000029A3A630>, <iterator object at 0x0000000029A3A630>]\n",
      "[<iterator object at 0x0000000025041FD0>, <iterator object at 0x0000000025041FD0>]\n",
      "[<iterator object at 0x0000000029A3A710>, <iterator object at 0x0000000029A3A710>]\n",
      "[<iterator object at 0x0000000025041FD0>, <iterator object at 0x0000000025041FD0>]\n",
      "[<iterator object at 0x0000000029A3A6A0>, <iterator object at 0x0000000029A3A6A0>]\n",
      "[<iterator object at 0x000000002A44CAC8>, <iterator object at 0x000000002A44CAC8>]\n",
      "[<iterator object at 0x0000000029A3A6A0>, <iterator object at 0x0000000029A3A6A0>]\n",
      "[<iterator object at 0x000000002A44CAC8>, <iterator object at 0x000000002A44CAC8>]\n",
      "[<iterator object at 0x0000000029A3A7F0>, <iterator object at 0x0000000029A3A7F0>]\n",
      "[<iterator object at 0x0000000026AB02B0>, <iterator object at 0x0000000026AB02B0>]\n",
      "[<iterator object at 0x0000000029A3A7F0>, <iterator object at 0x0000000029A3A7F0>]\n",
      "[<iterator object at 0x0000000024FDCC50>, <iterator object at 0x0000000024FDCC50>]\n",
      "[<iterator object at 0x0000000029A3A9E8>, <iterator object at 0x0000000029A3A9E8>]\n",
      "[<iterator object at 0x0000000024FDCC50>, <iterator object at 0x0000000024FDCC50>]\n",
      "[<iterator object at 0x0000000029A3A9E8>, <iterator object at 0x0000000029A3A9E8>]\n",
      "[<iterator object at 0x0000000024FDC7B8>, <iterator object at 0x0000000024FDC7B8>]\n",
      "[<iterator object at 0x0000000029A3A780>, <iterator object at 0x0000000029A3A780>]\n",
      "[<iterator object at 0x00000000227404A8>, <iterator object at 0x00000000227404A8>]\n",
      "[<iterator object at 0x000000002A63CC18>, <iterator object at 0x000000002A63CC18>]\n",
      "[<iterator object at 0x00000000227404A8>, <iterator object at 0x00000000227404A8>]\n",
      "[<iterator object at 0x00000000246FB828>, <iterator object at 0x00000000246FB828>]\n",
      "[<iterator object at 0x0000000024653FD0>, <iterator object at 0x0000000024653FD0>]\n",
      "[<iterator object at 0x00000000246FBE80>, <iterator object at 0x00000000246FBE80>]\n",
      "[<iterator object at 0x0000000025469470>, <iterator object at 0x0000000025469470>]\n",
      "[<iterator object at 0x00000000246D09E8>, <iterator object at 0x00000000246D09E8>]\n",
      "[<iterator object at 0x0000000025469278>, <iterator object at 0x0000000025469278>]\n",
      "[<iterator object at 0x00000000246D09E8>, <iterator object at 0x00000000246D09E8>]\n",
      "[<iterator object at 0x00000000254698D0>, <iterator object at 0x00000000254698D0>]\n",
      "[<iterator object at 0x0000000026A83470>, <iterator object at 0x0000000026A83470>]\n",
      "[<iterator object at 0x000000002403AFD0>, <iterator object at 0x000000002403AFD0>]\n",
      "[<iterator object at 0x00000000245F4D30>, <iterator object at 0x00000000245F4D30>]\n",
      "[<iterator object at 0x000000002403AFD0>, <iterator object at 0x000000002403AFD0>]\n",
      "[<iterator object at 0x00000000245F4D30>, <iterator object at 0x00000000245F4D30>]\n",
      "[<iterator object at 0x000000002403AFD0>, <iterator object at 0x000000002403AFD0>]\n",
      "[<iterator object at 0x0000000026A925C0>, <iterator object at 0x0000000026A925C0>]\n",
      "[<iterator object at 0x000000002206EAC8>, <iterator object at 0x000000002206EAC8>]\n",
      "[<iterator object at 0x0000000026A925C0>, <iterator object at 0x0000000026A925C0>]\n",
      "[<iterator object at 0x000000002512FC88>, <iterator object at 0x000000002512FC88>]\n",
      "[<iterator object at 0x0000000026A92B70>, <iterator object at 0x0000000026A92B70>]\n",
      "[<iterator object at 0x000000002512FC88>, <iterator object at 0x000000002512FC88>]\n",
      "[<iterator object at 0x0000000026A92B70>, <iterator object at 0x0000000026A92B70>]\n",
      "[<iterator object at 0x0000000024FBB048>, <iterator object at 0x0000000024FBB048>]\n",
      "[<iterator object at 0x00000000218BD748>, <iterator object at 0x00000000218BD748>]\n",
      "[<iterator object at 0x00000000216936D8>, <iterator object at 0x00000000216936D8>]\n",
      "[<iterator object at 0x00000000245E7588>, <iterator object at 0x00000000245E7588>]\n",
      "[<iterator object at 0x0000000026AA0CC0>, <iterator object at 0x0000000026AA0CC0>]\n",
      "[<iterator object at 0x00000000245E7588>, <iterator object at 0x00000000245E7588>]\n",
      "[<iterator object at 0x0000000020A1ADA0>, <iterator object at 0x0000000020A1ADA0>]\n",
      "[<iterator object at 0x0000000022918DD8>, <iterator object at 0x0000000022918DD8>]\n",
      "[<iterator object at 0x0000000024F29D68>, <iterator object at 0x0000000024F29D68>]\n",
      "[<iterator object at 0x0000000024930D68>, <iterator object at 0x0000000024930D68>]\n",
      "[<iterator object at 0x0000000024F29D68>, <iterator object at 0x0000000024F29D68>]\n",
      "[<iterator object at 0x0000000024930208>, <iterator object at 0x0000000024930208>]\n",
      "[<iterator object at 0x0000000024F29080>, <iterator object at 0x0000000024F29080>]\n",
      "[<iterator object at 0x000000002365D908>, <iterator object at 0x000000002365D908>]\n",
      "[<iterator object at 0x0000000024F290B8>, <iterator object at 0x0000000024F290B8>]\n",
      "[<iterator object at 0x000000002365D908>, <iterator object at 0x000000002365D908>]\n",
      "[<iterator object at 0x0000000024F292E8>, <iterator object at 0x0000000024F292E8>]\n",
      "[<iterator object at 0x000000002365D908>, <iterator object at 0x000000002365D908>]\n",
      "[<iterator object at 0x0000000024F292E8>, <iterator object at 0x0000000024F292E8>]\n",
      "[<iterator object at 0x000000002365D908>, <iterator object at 0x000000002365D908>]\n",
      "[<iterator object at 0x0000000024F29DA0>, <iterator object at 0x0000000024F29DA0>]\n",
      "[<iterator object at 0x000000002365D908>, <iterator object at 0x000000002365D908>]\n",
      "[<iterator object at 0x0000000024F29DA0>, <iterator object at 0x0000000024F29DA0>]\n",
      "[<iterator object at 0x000000002365DEF0>, <iterator object at 0x000000002365DEF0>]\n",
      "[<iterator object at 0x0000000024F298D0>, <iterator object at 0x0000000024F298D0>]\n",
      "[<iterator object at 0x000000002365DEB8>, <iterator object at 0x000000002365DEB8>]\n",
      "[<iterator object at 0x0000000024F29588>, <iterator object at 0x0000000024F29588>]\n",
      "[<iterator object at 0x000000002365D358>, <iterator object at 0x000000002365D358>]\n",
      "[<iterator object at 0x0000000024F29588>, <iterator object at 0x0000000024F29588>]\n",
      "[<iterator object at 0x00000000248F7828>, <iterator object at 0x00000000248F7828>]\n",
      "[<iterator object at 0x000000002401B128>, <iterator object at 0x000000002401B128>]\n",
      "[<iterator object at 0x00000000248F7828>, <iterator object at 0x00000000248F7828>]\n",
      "[<iterator object at 0x000000002401B128>, <iterator object at 0x000000002401B128>]\n",
      "[<iterator object at 0x0000000023488DD8>, <iterator object at 0x0000000023488DD8>]\n",
      "[<iterator object at 0x0000000024930208>, <iterator object at 0x0000000024930208>]\n",
      "[<iterator object at 0x00000000218DC438>, <iterator object at 0x00000000218DC438>]\n",
      "[<iterator object at 0x00000000249307B8>, <iterator object at 0x00000000249307B8>]\n",
      "[<iterator object at 0x00000000218DC438>, <iterator object at 0x00000000218DC438>]\n",
      "[<iterator object at 0x00000000249307B8>, <iterator object at 0x00000000249307B8>]\n",
      "[<iterator object at 0x00000000246B5748>, <iterator object at 0x00000000246B5748>]\n",
      "[<iterator object at 0x00000000249307B8>, <iterator object at 0x00000000249307B8>]\n",
      "[<iterator object at 0x0000000024592198>, <iterator object at 0x0000000024592198>]\n",
      "[<iterator object at 0x000000002562F198>, <iterator object at 0x000000002562F198>]\n",
      "[<iterator object at 0x00000000245929B0>, <iterator object at 0x00000000245929B0>]\n",
      "[<iterator object at 0x0000000025592C50>, <iterator object at 0x0000000025592C50>]\n",
      "[<iterator object at 0x0000000026A27DA0>, <iterator object at 0x0000000026A27DA0>]\n",
      "[<iterator object at 0x0000000025592C50>, <iterator object at 0x0000000025592C50>]\n",
      "[<iterator object at 0x0000000026A277F0>, <iterator object at 0x0000000026A277F0>]\n",
      "[<iterator object at 0x0000000024653FD0>, <iterator object at 0x0000000024653FD0>]\n",
      "[<iterator object at 0x000000001BCA4E10>, <iterator object at 0x000000001BCA4E10>]\n",
      "[<iterator object at 0x0000000026A83470>, <iterator object at 0x0000000026A83470>]\n",
      "[<iterator object at 0x000000001BCA4E10>, <iterator object at 0x000000001BCA4E10>]\n",
      "[<iterator object at 0x0000000026A83A20>, <iterator object at 0x0000000026A83A20>]\n",
      "[<iterator object at 0x000000001BCA4E10>, <iterator object at 0x000000001BCA4E10>]\n",
      "[<iterator object at 0x0000000026A83FD0>, <iterator object at 0x0000000026A83FD0>]\n",
      "[<iterator object at 0x00000000235B04E0>, <iterator object at 0x00000000235B04E0>]\n",
      "[<iterator object at 0x00000000245F4780>, <iterator object at 0x00000000245F4780>]\n",
      "[<iterator object at 0x0000000024F29588>, <iterator object at 0x0000000024F29588>]\n",
      "[<iterator object at 0x0000000024268A90>, <iterator object at 0x0000000024268A90>]\n",
      "[<iterator object at 0x0000000022F43EF0>, <iterator object at 0x0000000022F43EF0>]\n",
      "[<iterator object at 0x0000000029985C88>, <iterator object at 0x0000000029985C88>]\n",
      "[<iterator object at 0x000000002143DA20>, <iterator object at 0x000000002143DA20>]\n",
      "[<iterator object at 0x0000000029985320>, <iterator object at 0x0000000029985320>]\n",
      "[<iterator object at 0x000000002143DA20>, <iterator object at 0x000000002143DA20>]\n",
      "[<iterator object at 0x00000000299856A0>, <iterator object at 0x00000000299856A0>]\n",
      "[<iterator object at 0x0000000024653FD0>, <iterator object at 0x0000000024653FD0>]\n",
      "[<iterator object at 0x0000000024268A90>, <iterator object at 0x0000000024268A90>]\n",
      "[<iterator object at 0x0000000025065F28>, <iterator object at 0x0000000025065F28>]\n",
      "[<iterator object at 0x0000000028F71F28>, <iterator object at 0x0000000028F71F28>]\n",
      "[<iterator object at 0x0000000025065F28>, <iterator object at 0x0000000025065F28>]\n",
      "[<iterator object at 0x0000000028F71F28>, <iterator object at 0x0000000028F71F28>]\n",
      "[<iterator object at 0x0000000025065F28>, <iterator object at 0x0000000025065F28>]\n",
      "[<iterator object at 0x0000000028F71F28>, <iterator object at 0x0000000028F71F28>]\n",
      "[<iterator object at 0x0000000025065F28>, <iterator object at 0x0000000025065F28>]\n",
      "[<iterator object at 0x0000000028F71908>, <iterator object at 0x0000000028F71908>]\n",
      "[<iterator object at 0x0000000025164F60>, <iterator object at 0x0000000025164F60>]\n",
      "[<iterator object at 0x0000000028F71E48>, <iterator object at 0x0000000028F71E48>]\n",
      "[<iterator object at 0x0000000025164EF0>, <iterator object at 0x0000000025164EF0>]\n",
      "[<iterator object at 0x0000000028F71E48>, <iterator object at 0x0000000028F71E48>]\n",
      "[<iterator object at 0x0000000025164BA8>, <iterator object at 0x0000000025164BA8>]\n",
      "[<iterator object at 0x0000000024F1E240>, <iterator object at 0x0000000024F1E240>]\n",
      "[<iterator object at 0x0000000025164BA8>, <iterator object at 0x0000000025164BA8>]\n",
      "[<iterator object at 0x0000000024F1E240>, <iterator object at 0x0000000024F1E240>]\n",
      "[<iterator object at 0x0000000025164CF8>, <iterator object at 0x0000000025164CF8>]\n",
      "[<iterator object at 0x0000000024F1E518>, <iterator object at 0x0000000024F1E518>]\n",
      "[<iterator object at 0x0000000025164CF8>, <iterator object at 0x0000000025164CF8>]\n",
      "[<iterator object at 0x0000000024F1E588>, <iterator object at 0x0000000024F1E588>]\n",
      "[<iterator object at 0x0000000025164E48>, <iterator object at 0x0000000025164E48>]\n",
      "[<iterator object at 0x0000000024F1E588>, <iterator object at 0x0000000024F1E588>]\n",
      "[<iterator object at 0x0000000024661B70>, <iterator object at 0x0000000024661B70>]\n",
      "[<iterator object at 0x0000000024F1E668>, <iterator object at 0x0000000024F1E668>]\n",
      "[<iterator object at 0x0000000024661B70>, <iterator object at 0x0000000024661B70>]\n",
      "[<iterator object at 0x0000000024F1E668>, <iterator object at 0x0000000024F1E668>]\n",
      "[<iterator object at 0x00000000246615C0>, <iterator object at 0x00000000246615C0>]\n",
      "[<iterator object at 0x0000000024F1EB00>, <iterator object at 0x0000000024F1EB00>]\n",
      "[<iterator object at 0x00000000251A8C18>, <iterator object at 0x00000000251A8C18>]\n",
      "[<iterator object at 0x0000000024F1E6A0>, <iterator object at 0x0000000024F1E6A0>]\n",
      "[<iterator object at 0x00000000251A8C18>, <iterator object at 0x00000000251A8C18>]\n",
      "[<iterator object at 0x0000000024F1EEF0>, <iterator object at 0x0000000024F1EEF0>]\n",
      "[<iterator object at 0x000000002A649208>, <iterator object at 0x000000002A649208>]\n",
      "[<iterator object at 0x00000000251A8CF8>, <iterator object at 0x00000000251A8CF8>]\n",
      "[<iterator object at 0x000000002A649D68>, <iterator object at 0x000000002A649D68>]\n",
      "[<iterator object at 0x00000000251A8AC8>, <iterator object at 0x00000000251A8AC8>]\n",
      "[<iterator object at 0x0000000024F1EEF0>, <iterator object at 0x0000000024F1EEF0>]\n",
      "[<iterator object at 0x000000002A659908>, <iterator object at 0x000000002A659908>]\n",
      "[<iterator object at 0x00000000251A8F28>, <iterator object at 0x00000000251A8F28>]\n",
      "[<iterator object at 0x000000002A659908>, <iterator object at 0x000000002A659908>]\n",
      "[<iterator object at 0x00000000251A8F28>, <iterator object at 0x00000000251A8F28>]\n",
      "[<iterator object at 0x000000002A659908>, <iterator object at 0x000000002A659908>]\n",
      "[<iterator object at 0x00000000251A89E8>, <iterator object at 0x00000000251A89E8>]\n",
      "[<iterator object at 0x000000002A659EB8>, <iterator object at 0x000000002A659EB8>]\n",
      "[<iterator object at 0x00000000251A8E10>, <iterator object at 0x00000000251A8E10>]\n",
      "[<iterator object at 0x000000002A80D5F8>, <iterator object at 0x000000002A80D5F8>]\n",
      "[<iterator object at 0x00000000251A8D68>, <iterator object at 0x00000000251A8D68>]\n",
      "[<iterator object at 0x000000002A80DBA8>, <iterator object at 0x000000002A80DBA8>]\n",
      "[<iterator object at 0x00000000251A8D68>, <iterator object at 0x00000000251A8D68>]\n",
      "[<iterator object at 0x000000002A80DBA8>, <iterator object at 0x000000002A80DBA8>]\n",
      "[<iterator object at 0x00000000251A8D68>, <iterator object at 0x00000000251A8D68>]\n",
      "[<iterator object at 0x000000002A80DBA8>, <iterator object at 0x000000002A80DBA8>]\n",
      "[<iterator object at 0x00000000255A1BE0>, <iterator object at 0x00000000255A1BE0>]\n",
      "[<iterator object at 0x000000002A80DBA8>, <iterator object at 0x000000002A80DBA8>]\n",
      "[<iterator object at 0x00000000255A1BE0>, <iterator object at 0x00000000255A1BE0>]\n",
      "[<iterator object at 0x0000000024F1EEF0>, <iterator object at 0x0000000024F1EEF0>]\n",
      "365imagenesbonitas.com.txt\n",
      "4fotos1palabrarespuestas.net.txt\n",
      "abc.gov.ar.txt\n",
      "adnriver.com.txt\n",
      "ahba.com.ar.txt\n",
      "aldeaviral.com.txt\n",
      "alesanderlopez.es.txt\n",
      "amodil.com.txt\n",
      "andorrafreemarket.com.txt\n",
      "anthenaarcturus.com.txt\n",
      "arandu.com.ar.txt\n",
      "arenamarybosque.com.ar.txt\n",
      "argentas.com.ar.txt\n",
      "arredo.com.ar.txt\n",
      "bancoprovincia.com.ar.txt\n",
      "berissociudad.com.ar.txt\n",
      "besha.com.ar.txt\n",
      "bigbangnews.com.txt\n",
      "brandlive.net.txt\n",
      "buenosaires.gob.ar.txt\n",
      "buscapalabras.com.ar.txt\n",
      "carestino.com.txt\n",
      "carlosdodorico.com.txt\n",
      "cba24n.com.ar.txt\n",
      "ceacsrl.com.ar.txt\n",
      "cfkargentina.com.txt\n",
      "chinchonfree.com.txt\n",
      "chochox.com.txt\n",
      "cholilaonline.com.txt\n",
      "claroapps.com.txt\n",
      "clinica-web.com.ar.txt\n",
      "comocultivo.com.txt\n",
      "comoorganizarlacasa.com.txt\n",
      "consejosdederecho.com.ar.txt\n",
      "coopelecpehuajo.com.ar.txt\n",
      "crecerfeliz.es.txt\n",
      "cristianarce.com.ar.txt\n",
      "cutralcoalinstante.com.txt\n",
      "deruedas.com.ar.txt\n",
      "diariofemenino.com.txt\n",
      "diariosargentinos.net.txt\n",
      "eavescueladevinos.com.txt\n",
      "elchubut.com.ar.txt\n",
      "eldestapeweb.com.txt\n",
      "elpatagonico.com.txt\n",
      "elrealista.com.txt\n",
      "elsol.com.ar.txt\n",
      "eltallerdeloantiguo.com.txt\n",
      "eroadvertising.com.txt\n",
      "escortsxp.com.txt\n",
      "eshentai.net.txt\n",
      "esposasymaridos.xxx.txt\n",
      "estaciondelvalle963.com.ar.txt\n",
      "esteticas.com.ar.txt\n",
      "farmacity.com.txt\n",
      "fid.org.ar.txt\n",
      "fotossexogratis.net.txt\n",
      "frasesdecumpleanos3.com.txt\n",
      "freemeteo.com.ar.txt\n",
      "funsan.org.txt\n",
      "futbol-argento.com.ar.txt\n",
      "futbolparatodos.com.ar.txt\n",
      "gordasargentina.com.txt\n",
      "gruporedargentina.com.ar.txt\n",
      "horoscoposdeldiario.com.txt\n",
      "hyperbole.es.txt\n",
      "ignisnatura.net.txt\n",
      "imagenescool.com.txt\n",
      "infoleg.gob.ar.txt\n",
      "inglessencillo.com.txt\n",
      "inmobiliariaberasueta.com.txt\n",
      "itabikinis.com.ar.txt\n",
      "japemusic.com.txt\n",
      "jclsa.com.txt\n",
      "jus.gov.ar.txt\n",
      "labioguia.com.txt\n",
      "labrujula24.com.txt\n",
      "lacapitalmdp.com.txt\n",
      "lacocinadelsur.com.txt\n",
      "lanueva.com.txt\n",
      "lapaginamillonaria.com.txt\n",
      "letgo.com.ar.txt\n",
      "lgblog.cl.txt\n",
      "lindotest.com.txt\n",
      "linktomedia.net.txt\n",
      "locoxelrojo.com.ar.txt\n",
      "ludigames.com.txt\n",
      "manoalaobra.co.txt\n",
      "mas40.com.txt\n",
      "maxpedia.org.txt\n",
      "mercadoclics.com.txt\n",
      "mexicoxxx.com.mx.txt\n",
      "minube.com.ar.txt\n",
      "minutofueguino.com.ar.txt\n",
      "minutoneuquen.com.txt\n",
      "miplanchevrolet.com.ar.txt\n",
      "miradetodo.net.txt\n",
      "modatex.com.ar.txt\n",
      "mrvideoscaseros.xxx.txt\n",
      "mujerescojiendo.org.txt\n",
      "muycerdas.xxx.txt\n",
      "muysencillo.com.txt\n",
      "naturalezabellezaysalud.com.txt\n",
      "noticiastu.com.txt\n",
      "noviecitas.com.txt\n",
      "paisdelosjuegos.com.ar.txt\n",
      "paparazzi.com.ar.txt\n",
      "pendejasturras.com.txt\n",
      "perro-perdido.org.txt\n",
      "petardas.mobi.txt\n",
      "petardasmovil.org.txt\n",
      "pintzap.com.txt\n",
      "poringa.com.txt\n",
      "porquenosemeocurrio.com.txt\n",
      "postubo.com.txt\n",
      "preciosderemedios.com.ar.txt\n",
      "primicias.mx.txt\n",
      "prosegur.com.ar.txt\n",
      "publicidad.tv.txt\n",
      "quimi-lab.com.ar.txt\n",
      "radiomagicadigital.com.txt\n",
      "reebok.com.ar.txt\n",
      "relatoseroticos.co.txt\n",
      "remedioscaserosfaciles.net.txt\n",
      "reproduccionasistida.org.txt\n",
      "rionegro.gov.ar.txt\n",
      "sabevivir.com.txt\n",
      "sabiduriadelaluz.org.txt\n",
      "selfiegirls.net.txt\n",
      "selfiescorts.com.txt\n",
      "semanarioactualidad.com.ar.txt\n",
      "sexogaygratis.biz.txt\n",
      "sexysabor.com.txt\n",
      "simp3.com.txt\n",
      "skokka.com.txt\n",
      "sodimac.com.ar.txt\n",
      "soycuervo.com.txt\n",
      "suamarillas.com.txt\n",
      "suplefacts.com.txt\n",
      "tdfclasificados.com.ar.txt\n",
      "tiempodesanjuan.com.txt\n",
      "tiemposur.com.ar.txt\n",
      "tiendeo.com.ar.txt\n",
      "trolas.com.ar.txt\n",
      "trucosmovil.com.txt\n",
      "tupeinado.com.txt\n",
      "turras.com.ar.txt\n",
      "tusejemplos.com.txt\n",
      "tvn-2.com.txt\n",
      "uca.edu.ar.txt\n",
      "unr.edu.ar.txt\n",
      "valor-dolar.cl.txt\n",
      "vecinitas.net.txt\n",
      "verseriesynovelas.tv.txt\n",
      "viaresto.com.txt\n",
      "viejasfollando.xxx.txt\n",
      "villamariavivo.com.txt\n",
      "vix.com.txt\n",
      "wd1.me.txt\n",
      "xn--decorandouas-jhb.net.txt\n",
      "xn--paalerakokis-bhb.com.ar.txt\n",
      "xn--sueo-iqa.net.txt\n",
      "xpaja.net.txt\n",
      "yuhuads.com.txt\n",
      "zootubex.net.txt\n"
     ]
    }
   ],
   "source": [
    "# alternatively: wget http://mallet.cs.umass.edu/dist/mallet-2.0.7.tar.gz\n",
    "#curl --remote-name http://mallet.cs.umass.edu/dist/mallet-2.0.7.tar.gz\n",
    "#tar zxf mallet-2.0.7.tar.gz\n",
    "#Ejecutar en consola, el output es la entrada del anterio análisis\n",
    "#cd mallet-2.0.7/\n",
    "#entrada\n",
    "#./bin/mallet import-dir --input ../output/es/ --output ../output-mallet/topic-input-output-es.mallet --keep-sequence --remove-stopwords\n",
    "#salida\n",
    "#./bin/mallet train-topics --input ../output-mallet/topic-input-output-es.mallet --num-topics 20 --output-doc-topics ../output-mallet/doc-topics-output-es.txt --output-topic-keys ../output-mallet/topic-keys-output-es.txt --random-seed 1\n",
    "import numpy as np\n",
    "import itertools\n",
    "import operator\n",
    "import os\n",
    "\n",
    "def grouper(n, iterable, fillvalue=None):\n",
    "    \"Collect data into fixed-length chunks or blocks\"\n",
    "    args = [iter (iterable)] * n\n",
    "    print(args)\n",
    "    return itertools.izip_longest(*args, fillvalue=fillvalue)\n",
    "\n",
    "doctopic_triples = []\n",
    "mallet_docnames = []\n",
    "doc = []\n",
    "docnames = []\n",
    "\n",
    "with open (\"data/output-mallet/doc-topics-output-es.txt\") as f:\n",
    "    f.readline()\n",
    "    for line in f:\n",
    "        doc = line.rstrip().split('\\t')\n",
    "        protocolo, separador, docnames = doc[1].partition(\"es/\") \n",
    "        mallet_docnames.append(docnames)\n",
    "        for topic, share in grouper(2, doc[2]):\n",
    "            triple = (docnames, int(topic), share)\n",
    "            doctopic_triples.append(triple)\n",
    "        \n",
    "for m in mallet_docnames: \n",
    "    print m"
   ]
  },
  {
   "cell_type": "code",
   "execution_count": 315,
   "metadata": {
    "collapsed": false
   },
   "outputs": [
    {
     "ename": "IndexError",
     "evalue": "index 1 is out of bounds for axis 1 with size 1",
     "output_type": "error",
     "traceback": [
      "\u001b[0;31m---------------------------------------------------------------------------\u001b[0m",
      "\u001b[0;31mIndexError\u001b[0m                                Traceback (most recent call last)",
      "\u001b[0;32m<ipython-input-315-3aa516cde5c3>\u001b[0m in \u001b[0;36m<module>\u001b[0;34m()\u001b[0m\n\u001b[1;32m     15\u001b[0m     \u001b[0mdocname\u001b[0m\u001b[1;33m,\u001b[0m \u001b[0mtopic\u001b[0m\u001b[1;33m,\u001b[0m \u001b[0mshare\u001b[0m \u001b[1;33m=\u001b[0m \u001b[0mtriple\u001b[0m\u001b[1;33m\u001b[0m\u001b[0m\n\u001b[1;32m     16\u001b[0m     \u001b[0mrow_num\u001b[0m \u001b[1;33m=\u001b[0m \u001b[0mmallet_docnames\u001b[0m\u001b[1;33m.\u001b[0m\u001b[0mindex\u001b[0m\u001b[1;33m(\u001b[0m\u001b[0mdocname\u001b[0m\u001b[1;33m)\u001b[0m\u001b[1;33m\u001b[0m\u001b[0m\n\u001b[0;32m---> 17\u001b[0;31m     \u001b[0mdoctopic\u001b[0m\u001b[1;33m[\u001b[0m\u001b[0mrow_num\u001b[0m\u001b[1;33m,\u001b[0m \u001b[0mtopic\u001b[0m\u001b[1;33m]\u001b[0m \u001b[1;33m=\u001b[0m \u001b[0mshare\u001b[0m\u001b[1;33m\u001b[0m\u001b[0m\n\u001b[0m",
      "\u001b[0;31mIndexError\u001b[0m: index 1 is out of bounds for axis 1 with size 1"
     ]
    }
   ],
   "source": [
    "# sort the triples\n",
    "# triple is (docname, topicnum, share) so sort(key=operator.itemgetter(0,1))\n",
    "# sorts on (docname, topicnum) which is what we want\n",
    "doctopic_triples = sorted(doctopic_triples, key=operator.itemgetter(0,1))\n",
    "\n",
    "# sort the document names rather than relying on MALLET's ordering\n",
    "mallet_docnames = sorted(mallet_docnames)\n",
    "\n",
    "# collect into a document-term matrix\n",
    "num_docs = len(mallet_docnames )\n",
    "num_topics = len(doctopic_triples) // len(mallet_docnames)\n",
    "# the following works because we know that the triples are in sequential order\n",
    "doctopic = np.zeros((num_docs, num_topics))\n",
    "for triple in doctopic_triples:\n",
    "    docname, topic, share = triple\n",
    "    row_num = mallet_docnames.index(docname)\n",
    "    doctopic[row_num, topic] = share"
   ]
  },
  {
   "cell_type": "code",
   "execution_count": 316,
   "metadata": {
    "collapsed": false
   },
   "outputs": [],
   "source": [
    "# The following method is considerably faster. It uses the itertools library which is part of the Python standard library.\n",
    "import itertools\n",
    "import operator\n",
    "\n",
    "doctopic = np.zeros((num_docs, num_topics))\n",
    "\n",
    "for i, (doc_name, triples) in enumerate(itertools.groupby(doctopic_triples, key=operator.itemgetter(0))):\n",
    "    doctopic[i, :] = np.array([share for _, _, share in triples])"
   ]
  },
  {
   "cell_type": "code",
   "execution_count": 295,
   "metadata": {
    "collapsed": false
   },
   "outputs": [],
   "source": [
    "doc_names = []\n",
    "\n",
    "for fn in filenames:\n",
    "    basename = os.path.basename(fn)\n",
    "    name, ext = os.path.splitext(basename)\n",
    "    name = name.rstrip('0123456789')\n",
    "    doc_names.append(name)\n",
    "\n",
    "# turn this into an array so we can use NumPy functions\n",
    "doc_names = np.asarray(doc_names)\n",
    "doctopic_orig = doctopic.copy()\n",
    "\n",
    "# use method described in preprocessing section\n",
    "num_groups = len(set(doc_names))\n",
    "doctopic_grouped = np.zeros((num_groups, num_topics))\n",
    "\n",
    "for i, name in enumerate(sorted(set(doc_names))):\n",
    "    doctopic_grouped[i, :] = np.mean(doctopic[novel_names == name, :], axis=0)\n",
    "\n",
    "doctopic = doctopic_grouped"
   ]
  },
  {
   "cell_type": "code",
   "execution_count": 296,
   "metadata": {
    "collapsed": false
   },
   "outputs": [
    {
     "data": {
      "text/plain": [
       "(165, 2049)"
      ]
     },
     "execution_count": 296,
     "metadata": {},
     "output_type": "execute_result"
    }
   ],
   "source": [
    "#Inspecting the topic model\n",
    "from sklearn.feature_extraction.text import CountVectorizer\n",
    "\n",
    "CORPUS_PATH_UNSPLIT = os.path.join('data', 'output/es')\n",
    "filenames = [os.path.join(CORPUS_PATH_UNSPLIT, fn) for fn in sorted(os.listdir(CORPUS_PATH_UNSPLIT))]\n",
    "vectorizer = CountVectorizer(input='filename')\n",
    "dtm = vectorizer.fit_transform(filenames)\n",
    "dtm.shape"
   ]
  },
  {
   "cell_type": "code",
   "execution_count": 297,
   "metadata": {
    "collapsed": false
   },
   "outputs": [
    {
     "data": {
      "text/plain": [
       "(165L, 1L)"
      ]
     },
     "execution_count": 297,
     "metadata": {},
     "output_type": "execute_result"
    }
   ],
   "source": [
    "dtm.data.nbytes  # number of bytes dtm takes up\n",
    "#dtm.toarray().data.nbytes  # number of bytes dtm as array takes up\n",
    "doctopic_orig.shape\n",
    "#doctopic_orig.data.nbytes  # number of bytes document-topic shares take up"
   ]
  },
  {
   "cell_type": "code",
   "execution_count": 298,
   "metadata": {
    "collapsed": false
   },
   "outputs": [
    {
     "name": "stdout",
     "output_type": "stream",
     "text": [
      "Top topics in...\n",
      "365imagenesbonitas.com: 0\n",
      "4fotos1palabrarespuestas.net: 0\n",
      "abc.gov.ar: 0\n",
      "adnriver.com: 0\n",
      "ahba.com.ar: 0\n",
      "aldeaviral.com: 0\n",
      "alesanderlopez.es: 0\n",
      "amodil.com: 0\n",
      "andorrafreemarket.com: 0\n",
      "anthenaarcturus.com: 0\n",
      "arandu.com.ar: 0\n",
      "arenamarybosque.com.ar: 0\n",
      "argentas.com.ar: 0\n",
      "arredo.com.ar: 0\n",
      "bancoprovincia.com.ar: 0\n",
      "berissociudad.com.ar: 0\n",
      "besha.com.ar: 0\n",
      "bigbangnews.com: 0\n",
      "brandlive.net: 0\n",
      "buenosaires.gob.ar: 0\n",
      "buscapalabras.com.ar: 0\n",
      "carestino.com: 0\n",
      "carlosdodorico.com: 0\n",
      "cba24n.com.ar: 0\n",
      "ceacsrl.com.ar: 0\n",
      "cfkargentina.com: 0\n",
      "chinchonfree.com: 0\n",
      "chochox.com: 0\n",
      "cholilaonline.com: 0\n",
      "claroapps.com: 0\n",
      "clinica-web.com.ar: 0\n",
      "comocultivo.com: 0\n",
      "comoorganizarlacasa.com: 0\n",
      "consejosdederecho.com.ar: 0\n",
      "coopelecpehuajo.com.ar: 0\n",
      "crecerfeliz.es: 0\n",
      "cristianarce.com.ar: 0\n",
      "cutralcoalinstante.com: 0\n",
      "deruedas.com.ar: 0\n",
      "diariofemenino.com: 0\n",
      "diariosargentinos.net: 0\n",
      "eavescueladevinos.com: 0\n",
      "elchubut.com.ar: 0\n",
      "eldestapeweb.com: 0\n",
      "elpatagonico.com: 0\n",
      "elrealista.com: 0\n",
      "elsol.com.ar: 0\n",
      "eltallerdeloantiguo.com: 0\n",
      "eroadvertising.com: 0\n",
      "escortsxp.com: 0\n",
      "eshentai.net: 0\n",
      "esposasymaridos.xxx: 0\n",
      "estaciondelvalle963.com.ar: 0\n",
      "esteticas.com.ar: 0\n",
      "farmacity.com: 0\n",
      "fid.org.ar: 0\n",
      "fotossexogratis.net: 0\n",
      "frasesdecumpleanos3.com: 0\n",
      "freemeteo.com.ar: 0\n",
      "funsan.org: 0\n",
      "futbol-argento.com.ar: 0\n",
      "futbolparatodos.com.ar: 0\n",
      "gordasargentina.com: 0\n",
      "gruporedargentina.com.ar: 0\n",
      "horoscoposdeldiario.com: 0\n",
      "hyperbole.es: 0\n",
      "ignisnatura.net: 0\n",
      "imagenescool.com: 0\n",
      "infoleg.gob.ar: 0\n",
      "inglessencillo.com: 0\n",
      "inmobiliariaberasueta.com: 0\n",
      "itabikinis.com.ar: 0\n",
      "japemusic.com: 0\n",
      "jclsa.com: 0\n",
      "jus.gov.ar: 0\n",
      "labioguia.com: 0\n",
      "labrujula24.com: 0\n",
      "lacapitalmdp.com: 0\n",
      "lacocinadelsur.com: 0\n",
      "lanueva.com: 0\n",
      "lapaginamillonaria.com: 0\n",
      "letgo.com.ar: 0\n",
      "lgblog.cl: 0\n",
      "lindotest.com: 0\n",
      "linktomedia.net: 0\n",
      "locoxelrojo.com.ar: 0\n",
      "ludigames.com: 0\n",
      "manoalaobra.co: 0\n",
      "mas40.com: 0\n",
      "maxpedia.org: 0\n",
      "mercadoclics.com: 0\n",
      "mexicoxxx.com.mx: 0\n",
      "minube.com.ar: 0\n",
      "minutofueguino.com.ar: 0\n",
      "minutoneuquen.com: 0\n",
      "miplanchevrolet.com.ar: 0\n",
      "miradetodo.net: 0\n",
      "modatex.com.ar: 0\n",
      "mrvideoscaseros.xxx: 0\n",
      "mujerescojiendo.org: 0\n",
      "muycerdas.xxx: 0\n",
      "muysencillo.com: 0\n",
      "naturalezabellezaysalud.com: 0\n",
      "noticiastu.com: 0\n",
      "noviecitas.com: 0\n",
      "paisdelosjuegos.com.ar: 0\n",
      "paparazzi.com.ar: 0\n",
      "pendejasturras.com: 0\n",
      "perro-perdido.org: 0\n",
      "petardas.mobi: 0\n",
      "petardasmovil.org: 0\n",
      "pintzap.com: 0\n",
      "poringa.com: 0\n",
      "porquenosemeocurrio.com: 0\n",
      "postubo.com: 0\n",
      "preciosderemedios.com.ar: 0\n",
      "primicias.mx: 0\n",
      "prosegur.com.ar: 0\n",
      "publicidad.tv: 0\n",
      "quimi-lab.com.ar: 0\n",
      "radiomagicadigital.com: 0\n",
      "reebok.com.ar: 0\n",
      "relatoseroticos.co: 0\n",
      "remedioscaserosfaciles.net: 0\n",
      "reproduccionasistida.org: 0\n",
      "rionegro.gov.ar: 0\n",
      "sabevivir.com: 0\n",
      "sabiduriadelaluz.org: 0\n",
      "selfiegirls.net: 0\n",
      "selfiescorts.com: 0\n",
      "semanarioactualidad.com.ar: 0\n",
      "sexogaygratis.biz: 0\n",
      "sexysabor.com: 0\n",
      "simp3.com: 0\n",
      "skokka.com: 0\n",
      "sodimac.com.ar: 0\n",
      "soycuervo.com: 0\n",
      "suamarillas.com: 0\n",
      "suplefacts.com: 0\n",
      "tdfclasificados.com.ar: 0\n",
      "tiempodesanjuan.com: 0\n",
      "tiemposur.com.ar: 0\n",
      "tiendeo.com.ar: 0\n",
      "trolas.com.ar: 0\n",
      "trucosmovil.com: 0\n",
      "tupeinado.com: 0\n",
      "turras.com.ar: 0\n",
      "tusejemplos.com: 0\n",
      "tvn-2.com: 0\n",
      "uca.edu.ar: 0\n",
      "unr.edu.ar: 0\n",
      "valor-dolar.cl: 0\n",
      "vecinitas.net: 0\n",
      "verseriesynovelas.tv: 0\n",
      "viaresto.com: 0\n",
      "viejasfollando.xxx: 0\n",
      "villamariavivo.com: 0\n",
      "vix.com: 0\n",
      "wd1.me: 0\n",
      "xn--decorandouas-jhb.net: 0\n",
      "xn--paalerakokis-bhb.com.ar: 0\n",
      "xn--sueo-iqa.net: 0\n",
      "xpaja.net: 0\n",
      "yuhuads.com: 0\n",
      "zootubex.net: 0\n"
     ]
    }
   ],
   "source": [
    "docs = sorted(set(doc_names))\n",
    "print(\"Top topics in...\")\n",
    "\n",
    "for i in range(len(doctopic)):\n",
    "    top_topics = np.argsort(doctopic[i,:])[::-1][0:3]\n",
    "    top_topics_str = ' '.join(str(t) for t in top_topics)\n",
    "    print(\"{}: {}\".format(docs[i], top_topics_str))"
   ]
  },
  {
   "cell_type": "code",
   "execution_count": 299,
   "metadata": {
    "collapsed": false
   },
   "outputs": [
    {
     "data": {
      "text/plain": [
       "['foto',\n",
       " 'compartir',\n",
       " 'nuevo',\n",
       " 'whatsapp',\n",
       " 'tema',\n",
       " 'instant',\n",
       " 'adulto',\n",
       " 'mayor',\n",
       " 'auto',\n",
       " 'contacto',\n",
       " 'hace',\n",
       " 'net',\n",
       " 'mojada',\n",
       " 'definicion',\n",
       " 'vender',\n",
       " 'actividad',\n",
       " 'linea',\n",
       " 'momento',\n",
       " 'dia']"
      ]
     },
     "execution_count": 299,
     "metadata": {},
     "output_type": "execute_result"
    }
   ],
   "source": [
    "with open('data/output-mallet/topic-keys-output-es.txt') as input:\n",
    "    topic_keys_lines = input.readlines()\n",
    "\n",
    "topic_words = []\n",
    "\n",
    "for line in topic_keys_lines:\n",
    "    _, _, words = line.split('\\t')  # tab-separated\n",
    "    words = words.rstrip().split(' ')  # remove the trailing '\\n'\n",
    "    topic_words.append(words)\n",
    "\n",
    "# now we can get a list of the top words for topic 0 with topic_words[0]\n",
    "topic_words[0]"
   ]
  },
  {
   "cell_type": "code",
   "execution_count": 300,
   "metadata": {
    "collapsed": false
   },
   "outputs": [
    {
     "name": "stdout",
     "output_type": "stream",
     "text": [
      "Topic 0: foto compartir nuevo whatsapp tema instant adulto mayor auto contacto\n",
      "Topic 1: mejor grati video porno sexo xxx chica jovencita follando mina\n",
      "Topic 2: toda travesti telefono aca embarazo actualizado perro pagina chimento guarra\n",
      "Topic 3: bueno madura escort acompanant san argentina rubro casera gran masaj\n",
      "Topic 4: comunidad comprar fabrica puta ultimo publica acceso blog centro equipo\n",
      "Topic 5: onlin internet zona tube receta realizado promocion movile universidad sistema\n",
      "Topic 6: informacion historia ma proyecto onlin contacto calient publico institucion panama\n",
      "Topic 7: compra gobierno periodismo musica mile app espana river pendeja sencillo\n",
      "Topic 8: vida tiempo colectivo turra cine pronostico agencia ciudad traviesa rumor\n",
      "Topic 9: ofici tienda clasificado empresa aplicacion ar facil encontrar costo precio\n",
      "Topic 10: casa pagina ropa desnuda persona cosa descarga internacion articulo mar\n",
      "Topic 11: web espanol air guia entretenimiento relacion mundo amor hogar gent\n",
      "Topic 12: juego movil android sodimac periodico animal alta segun iphon narcolepsia\n",
      "Topic 13: noticia diario politica deport economia ultima farandula futbol revista espectaculo\n",
      "Topic 14: red disfruta cultura gener anuncio nacion paso aprend nueva inicio\n",
      "Topic 15: servicio bebe producto mujer contenido cocina restaurant hermosa internacional forma\n",
      "Topic 16: sueno belleza home imagen suenos descargar sonar enfermedad significado conoc\n",
      "Topic 17: argentina necesita salud tipo barrio ar ejemplo linda truco net\n",
      "Topic 18: encontra portal chat aqui pareja hd diario ar buscar mayor\n",
      "Topic 19: sitio social publicidad art real important actualizada ejecutivo descubr curso\n"
     ]
    }
   ],
   "source": [
    "N_WORDS_DISPLAY = 10\n",
    "\n",
    "for t in range(len(topic_words)):\n",
    "    print(\"Topic {}: {}\".format(t, ' '.join(topic_words[t][:N_WORDS_DISPLAY])))"
   ]
  },
  {
   "cell_type": "code",
   "execution_count": 304,
   "metadata": {
    "collapsed": false
   },
   "outputs": [
    {
     "name": "stderr",
     "output_type": "stream",
     "text": [
      "C:\\Users\\maite.echeverry\\AppData\\Local\\Continuum\\Anaconda2\\lib\\site-packages\\ipykernel\\__main__.py:12: RuntimeWarning: invalid value encountered in absolute\n"
     ]
    },
    {
     "data": {
      "text/plain": [
       "array([0], dtype=int64)"
      ]
     },
     "execution_count": 304,
     "metadata": {},
     "output_type": "execute_result"
    }
   ],
   "source": [
    "#Temas distintivos\n",
    "noticia_indices, video_indices = [], []\n",
    "\n",
    "for index, fn in enumerate(sorted(set(doc_names))):\n",
    "    if \"noticia\" in fn:\n",
    "        noticia_indices.append(index)\n",
    "    elif \"video\" in fn:\n",
    "        video_indices.append(index)\n",
    "\n",
    "noticia = np.mean(doctopic[noticia_indices, :], axis=0)\n",
    "video = np.mean(doctopic[video_indices, :], axis=0)\n",
    "keyness = np.abs(noticia - video)\n",
    "ranking = np.argsort(keyness)[::-1]  #from highest to lowest; [::-1] reverses order in Python sequences\n",
    "\n",
    "# distinctive topics:\n",
    "ranking[:10]"
   ]
  },
  {
   "cell_type": "code",
   "execution_count": 305,
   "metadata": {
    "collapsed": true
   },
   "outputs": [],
   "source": [
    "#Visualización\n",
    "#cd mallet-2.0.7\n",
    "#./bin/mallet import-dir --input ../output/es/ --output ../output-mallet/topic-input.mallet --keep-sequence --remove-stopwords\n",
    "#./bin/mallet train-topics --input ../output-mallet/topic-input.mallet --num-topics 5 --output-doc-topics ../output-mallet/doc-topics.txt --output-topic-keys ../output-mallet/topic-keys.txt --word-topic-counts-file ../output-mallet/word-topic.txt"
   ]
  },
  {
   "cell_type": "code",
   "execution_count": 306,
   "metadata": {
    "collapsed": false
   },
   "outputs": [
    {
     "data": {
      "text/plain": [
       "(165L, 1L)"
      ]
     },
     "execution_count": 306,
     "metadata": {},
     "output_type": "execute_result"
    }
   ],
   "source": [
    "doctopic.shape"
   ]
  },
  {
   "cell_type": "code",
   "execution_count": 307,
   "metadata": {
    "collapsed": false
   },
   "outputs": [
    {
     "name": "stdout",
     "output_type": "stream",
     "text": [
      "[[  6.]\n",
      " [  8.]\n",
      " [  4.]\n",
      " [  3.]\n",
      " [  1.]\n",
      " [  5.]\n",
      " [  0.]\n",
      " [  6.]\n",
      " [  8.]\n",
      " [  8.]\n",
      " [  7.]\n",
      " [  3.]\n",
      " [ nan]\n",
      " [  0.]\n",
      " [  3.]\n",
      " [  3.]\n",
      " [  8.]\n",
      " [ nan]\n",
      " [ nan]\n",
      " [  9.]\n",
      " [  6.]\n",
      " [  5.]\n",
      " [ nan]\n",
      " [  3.]\n",
      " [  9.]\n",
      " [  9.]\n",
      " [  0.]\n",
      " [  1.]\n",
      " [  3.]\n",
      " [ nan]\n",
      " [  1.]\n",
      " [  1.]\n",
      " [  5.]\n",
      " [  8.]\n",
      " [  5.]\n",
      " [  5.]\n",
      " [  0.]\n",
      " [ nan]\n",
      " [ nan]\n",
      " [  1.]\n",
      " [  7.]\n",
      " [  7.]\n",
      " [  7.]\n",
      " [  8.]\n",
      " [  7.]\n",
      " [  9.]\n",
      " [  3.]\n",
      " [  7.]\n",
      " [  6.]\n",
      " [ nan]\n",
      " [  1.]\n",
      " [ nan]\n",
      " [  3.]\n",
      " [ nan]\n",
      " [  5.]\n",
      " [  9.]\n",
      " [ nan]\n",
      " [  4.]\n",
      " [ nan]\n",
      " [  7.]\n",
      " [  4.]\n",
      " [  0.]\n",
      " [  8.]\n",
      " [ nan]\n",
      " [  2.]\n",
      " [ nan]\n",
      " [  2.]\n",
      " [ nan]\n",
      " [ nan]\n",
      " [  7.]\n",
      " [  5.]\n",
      " [ nan]\n",
      " [ nan]\n",
      " [  1.]\n",
      " [ nan]\n",
      " [  4.]\n",
      " [  7.]\n",
      " [  3.]\n",
      " [  4.]\n",
      " [  3.]\n",
      " [ nan]\n",
      " [ nan]\n",
      " [ nan]\n",
      " [  9.]\n",
      " [  1.]\n",
      " [ nan]\n",
      " [  2.]\n",
      " [  9.]\n",
      " [  8.]\n",
      " [  3.]\n",
      " [ nan]\n",
      " [ nan]\n",
      " [  6.]\n",
      " [  1.]\n",
      " [  3.]\n",
      " [  3.]\n",
      " [ nan]\n",
      " [  0.]\n",
      " [ nan]\n",
      " [ nan]\n",
      " [ nan]\n",
      " [ nan]\n",
      " [  6.]\n",
      " [  1.]\n",
      " [ nan]\n",
      " [  7.]\n",
      " [  3.]\n",
      " [  6.]\n",
      " [  4.]\n",
      " [ nan]\n",
      " [ nan]\n",
      " [ nan]\n",
      " [ nan]\n",
      " [  1.]\n",
      " [ nan]\n",
      " [ nan]\n",
      " [  3.]\n",
      " [ nan]\n",
      " [  2.]\n",
      " [  2.]\n",
      " [ nan]\n",
      " [ nan]\n",
      " [ nan]\n",
      " [  8.]\n",
      " [  7.]\n",
      " [  8.]\n",
      " [  1.]\n",
      " [  7.]\n",
      " [ nan]\n",
      " [ nan]\n",
      " [  3.]\n",
      " [ nan]\n",
      " [ nan]\n",
      " [ nan]\n",
      " [ nan]\n",
      " [  2.]\n",
      " [ nan]\n",
      " [ nan]\n",
      " [  8.]\n",
      " [ nan]\n",
      " [  8.]\n",
      " [  3.]\n",
      " [ nan]\n",
      " [ nan]\n",
      " [  2.]\n",
      " [  8.]\n",
      " [ nan]\n",
      " [  7.]\n",
      " [  1.]\n",
      " [  7.]\n",
      " [ nan]\n",
      " [  7.]\n",
      " [ nan]\n",
      " [ nan]\n",
      " [  9.]\n",
      " [ nan]\n",
      " [  3.]\n",
      " [ nan]\n",
      " [ nan]\n",
      " [ nan]\n",
      " [ nan]\n",
      " [  6.]\n",
      " [ nan]\n",
      " [  7.]\n",
      " [ nan]]\n"
     ]
    }
   ],
   "source": [
    "print(doctopic)"
   ]
  },
  {
   "cell_type": "code",
   "execution_count": 308,
   "metadata": {
    "collapsed": false
   },
   "outputs": [
    {
     "data": {
      "text/plain": [
       "<matplotlib.text.Text at 0x2a50e710>"
      ]
     },
     "execution_count": 308,
     "metadata": {},
     "output_type": "execute_result"
    },
    {
     "data": {
      "image/png": "[encoded data removed]",
      "text/plain": [
       "<matplotlib.figure.Figure at 0x270f5e48>"
      ]
     },
     "metadata": {},
     "output_type": "display_data"
    }
   ],
   "source": [
    "%matplotlib inline\n",
    "import matplotlib.pyplot as plt\n",
    "\n",
    "N, K = doctopic.shape\n",
    "ind = np.arange(N)  # points on the x-axis\n",
    "\n",
    "width = 0.5\n",
    "\n",
    "plt.bar(ind, doctopic[:,0], width=width)\n",
    "plt.xticks(ind + width/2, docs )  # put labels in the center\n",
    "\n",
    "plt.title('Share of Topic #0')"
   ]
  },
  {
   "cell_type": "code",
   "execution_count": null,
   "metadata": {
    "collapsed": true
   },
   "outputs": [],
   "source": []
  },
  {
   "cell_type": "code",
   "execution_count": null,
   "metadata": {
    "collapsed": true
   },
   "outputs": [],
   "source": []
  }
 ],
 "metadata": {
  "anaconda-cloud": {},
  "kernelspec": {
   "display_name": "Python [default]",
   "language": "python",
   "name": "python2"
  },
  "language_info": {
   "codemirror_mode": {
    "name": "ipython",
    "version": 2
   },
   "file_extension": ".py",
   "mimetype": "text/x-python",
   "name": "python",
   "nbconvert_exporter": "python",
   "pygments_lexer": "ipython2",
   "version": "2.7.12"
  }
 },
 "nbformat": 4,
 "nbformat_minor": 0
}
